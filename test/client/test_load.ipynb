{
 "cells": [
  {
   "cell_type": "code",
   "execution_count": 1,
   "metadata": {},
   "outputs": [],
   "source": [
    "from src.client.quote_source_client_csv import QuoteSourceClientFinamCSV, TimeFrame,date, pd"
   ]
  },
  {
   "cell_type": "code",
   "execution_count": 2,
   "metadata": {},
   "outputs": [],
   "source": [
    "qsc = QuoteSourceClientFinamCSV(\"test/client\")\n",
    "qsc.add_file(\"test.MINUTE1.csv\", \"EURUSD\", TimeFrame.m1)"
   ]
  },
  {
   "cell_type": "code",
   "execution_count": 5,
   "metadata": {},
   "outputs": [
    {
     "data": {
      "text/html": [
       "<div>\n",
       "<style scoped>\n",
       "    .dataframe tbody tr th:only-of-type {\n",
       "        vertical-align: middle;\n",
       "    }\n",
       "\n",
       "    .dataframe tbody tr th {\n",
       "        vertical-align: top;\n",
       "    }\n",
       "\n",
       "    .dataframe thead th {\n",
       "        text-align: right;\n",
       "    }\n",
       "</style>\n",
       "<table border=\"1\" class=\"dataframe\">\n",
       "  <thead>\n",
       "    <tr style=\"text-align: right;\">\n",
       "      <th></th>\n",
       "      <th>open</th>\n",
       "      <th>high</th>\n",
       "      <th>low</th>\n",
       "      <th>close</th>\n",
       "      <th>volume</th>\n",
       "    </tr>\n",
       "    <tr>\n",
       "      <th>start_date_time</th>\n",
       "      <th></th>\n",
       "      <th></th>\n",
       "      <th></th>\n",
       "      <th></th>\n",
       "      <th></th>\n",
       "    </tr>\n",
       "  </thead>\n",
       "  <tbody>\n",
       "    <tr>\n",
       "      <th>2021-04-02 00:02:00</th>\n",
       "      <td>1.17290</td>\n",
       "      <td>1.17308</td>\n",
       "      <td>1.17280</td>\n",
       "      <td>1.17301</td>\n",
       "      <td>64.0</td>\n",
       "    </tr>\n",
       "    <tr>\n",
       "      <th>2021-04-02 00:03:00</th>\n",
       "      <td>1.17291</td>\n",
       "      <td>1.17307</td>\n",
       "      <td>1.17278</td>\n",
       "      <td>1.17301</td>\n",
       "      <td>67.0</td>\n",
       "    </tr>\n",
       "    <tr>\n",
       "      <th>2021-04-03 00:04:00</th>\n",
       "      <td>1.17283</td>\n",
       "      <td>1.17301</td>\n",
       "      <td>1.17278</td>\n",
       "      <td>1.17281</td>\n",
       "      <td>59.0</td>\n",
       "    </tr>\n",
       "    <tr>\n",
       "      <th>2021-04-03 00:05:00</th>\n",
       "      <td>1.17281</td>\n",
       "      <td>1.17290</td>\n",
       "      <td>1.17267</td>\n",
       "      <td>1.17285</td>\n",
       "      <td>125.0</td>\n",
       "    </tr>\n",
       "  </tbody>\n",
       "</table>\n",
       "</div>"
      ],
      "text/plain": [
       "                        open     high      low    close  volume\n",
       "start_date_time                                                \n",
       "2021-04-02 00:02:00  1.17290  1.17308  1.17280  1.17301    64.0\n",
       "2021-04-02 00:03:00  1.17291  1.17307  1.17278  1.17301    67.0\n",
       "2021-04-03 00:04:00  1.17283  1.17301  1.17278  1.17281    59.0\n",
       "2021-04-03 00:05:00  1.17281  1.17290  1.17267  1.17285   125.0"
      ]
     },
     "execution_count": 5,
     "metadata": {},
     "output_type": "execute_result"
    }
   ],
   "source": [
    "df = qsc.get(\"EURUSD\", TimeFrame.m1, date(2021,4,2), date(2021,4,4)).to_df()\n",
    "df"
   ]
  },
  {
   "cell_type": "code",
   "execution_count": 7,
   "metadata": {},
   "outputs": [
    {
     "data": {
      "text/html": [
       "<div>\n",
       "<style scoped>\n",
       "    .dataframe tbody tr th:only-of-type {\n",
       "        vertical-align: middle;\n",
       "    }\n",
       "\n",
       "    .dataframe tbody tr th {\n",
       "        vertical-align: top;\n",
       "    }\n",
       "\n",
       "    .dataframe thead th {\n",
       "        text-align: right;\n",
       "    }\n",
       "</style>\n",
       "<table border=\"1\" class=\"dataframe\">\n",
       "  <thead>\n",
       "    <tr style=\"text-align: right;\">\n",
       "      <th></th>\n",
       "      <th>open</th>\n",
       "      <th>high</th>\n",
       "      <th>low</th>\n",
       "      <th>close</th>\n",
       "      <th>volume</th>\n",
       "    </tr>\n",
       "    <tr>\n",
       "      <th>start_date_time</th>\n",
       "      <th></th>\n",
       "      <th></th>\n",
       "      <th></th>\n",
       "      <th></th>\n",
       "      <th></th>\n",
       "    </tr>\n",
       "  </thead>\n",
       "  <tbody>\n",
       "    <tr>\n",
       "      <th>2021-04-02 00:02:00</th>\n",
       "      <td>1.17290</td>\n",
       "      <td>1.17308</td>\n",
       "      <td>1.17280</td>\n",
       "      <td>1.17301</td>\n",
       "      <td>64.0</td>\n",
       "    </tr>\n",
       "    <tr>\n",
       "      <th>2021-04-02 00:03:00</th>\n",
       "      <td>1.17291</td>\n",
       "      <td>1.17307</td>\n",
       "      <td>1.17278</td>\n",
       "      <td>1.17301</td>\n",
       "      <td>67.0</td>\n",
       "    </tr>\n",
       "    <tr>\n",
       "      <th>2021-04-03 00:04:00</th>\n",
       "      <td>1.17283</td>\n",
       "      <td>1.17301</td>\n",
       "      <td>1.17278</td>\n",
       "      <td>1.17281</td>\n",
       "      <td>59.0</td>\n",
       "    </tr>\n",
       "  </tbody>\n",
       "</table>\n",
       "</div>"
      ],
      "text/plain": [
       "                        open     high      low    close  volume\n",
       "start_date_time                                                \n",
       "2021-04-02 00:02:00  1.17290  1.17308  1.17280  1.17301    64.0\n",
       "2021-04-02 00:03:00  1.17291  1.17307  1.17278  1.17301    67.0\n",
       "2021-04-03 00:04:00  1.17283  1.17301  1.17278  1.17281    59.0"
      ]
     },
     "execution_count": 7,
     "metadata": {},
     "output_type": "execute_result"
    }
   ],
   "source": [
    "import datetime\n",
    "from_dt = datetime.datetime(2021,4,2,0,2)\n",
    "untill_df = datetime.datetime(2021,4,3,0,5) - datetime.timedelta(0,0,1)\n",
    "df.loc[from_dt:untill_df]"
   ]
  },
  {
   "cell_type": "code",
   "execution_count": null,
   "metadata": {},
   "outputs": [],
   "source": []
  }
 ],
 "metadata": {
  "kernelspec": {
   "display_name": "Python 3",
   "language": "python",
   "name": "python3"
  },
  "language_info": {
   "codemirror_mode": {
    "name": "ipython",
    "version": 3
   },
   "file_extension": ".py",
   "mimetype": "text/x-python",
   "name": "python",
   "nbconvert_exporter": "python",
   "pygments_lexer": "ipython3",
   "version": "3.11.2"
  },
  "orig_nbformat": 4
 },
 "nbformat": 4,
 "nbformat_minor": 2
}
