{
 "cells": [
  {
   "cell_type": "code",
   "execution_count": 1,
   "metadata": {},
   "outputs": [],
   "source": [
    "\n",
    "import logging\n",
    "\n",
    "logging.basicConfig(format='\\033[93m%(asctime)s %(levelname)s %(name)s:\\033[0m %(message)s', level=logging.INFO, datefmt='%I:%M:%S')\n",
    "import warnings\n",
    "import pandas as pd\n",
    "\n",
    "warnings.simplefilter(action='ignore', category=pd.errors.PerformanceWarning)\n",
    "warnings.simplefilter(action=\"ignore\", category=pd.errors.SettingWithCopyWarning)"
   ]
  },
  {
   "cell_type": "code",
   "execution_count": 2,
   "metadata": {},
   "outputs": [],
   "source": [
    "from src.quotes import QuoteSource\n",
    "from src.cache.filecache import FileCache\n",
    "from src.client import QuoteSourceClientFinamCSV, TimeFrame\n"
   ]
  },
  {
   "cell_type": "code",
   "execution_count": 3,
   "metadata": {},
   "outputs": [
    {
     "name": "stderr",
     "output_type": "stream",
     "text": [
      "\u001b[93m02:49:29 INFO QuoteSourceClientCSV:\u001b[0m File ./quotes/EURUSD.Minute1.csv to stock EURUSD timeframe Minute1 added to client\n"
     ]
    }
   ],
   "source": [
    "fc = FileCache(\"./cache/\")\n",
    "qsc = QuoteSourceClientFinamCSV(\"./quotes/\")\n",
    "qsc.add_file(\"EURUSD.Minute1.csv\", \"EURUSD\", TimeFrame.m1)"
   ]
  },
  {
   "cell_type": "code",
   "execution_count": 4,
   "metadata": {},
   "outputs": [],
   "source": [
    "qs = QuoteSource(fc.quote, qsc)"
   ]
  },
  {
   "cell_type": "code",
   "execution_count": 5,
   "metadata": {},
   "outputs": [
    {
     "name": "stderr",
     "output_type": "stream",
     "text": [
      "\u001b[93m02:49:29 INFO QuoteFactory:\u001b[0m Cann't find quotes for EURUSD TimeFrame.MINUTE1 by step TimeFrame.MINUTE1\n",
      "\u001b[93m02:49:29 INFO QuoteFactory:\u001b[0m get request quotes from client\n",
      "\u001b[93m02:49:29 INFO QuoteSourceClientCSV:\u001b[0m Load file ./quotes/EURUSD.Minute1.csv\n",
      "\u001b[93m02:49:29 INFO QuoteSourceClientCSV:\u001b[0m start reading csv\n",
      "\u001b[93m02:49:34 INFO QuoteSourceClientCSV:\u001b[0m start parsing csv DataFrame\n",
      "\u001b[93m02:49:50 INFO QuoteSourceClientCSV:\u001b[0m finish parsing csv DataFrame\n",
      "\u001b[93m02:49:51 INFO QuoteFactory:\u001b[0m save quotes in cache\n"
     ]
    },
    {
     "data": {
      "text/html": [
       "<div>\n",
       "<style scoped>\n",
       "    .dataframe tbody tr th:only-of-type {\n",
       "        vertical-align: middle;\n",
       "    }\n",
       "\n",
       "    .dataframe tbody tr th {\n",
       "        vertical-align: top;\n",
       "    }\n",
       "\n",
       "    .dataframe thead th {\n",
       "        text-align: right;\n",
       "    }\n",
       "</style>\n",
       "<table border=\"1\" class=\"dataframe\">\n",
       "  <thead>\n",
       "    <tr style=\"text-align: right;\">\n",
       "      <th></th>\n",
       "      <th>open</th>\n",
       "      <th>high</th>\n",
       "      <th>low</th>\n",
       "      <th>close</th>\n",
       "      <th>volume</th>\n",
       "    </tr>\n",
       "    <tr>\n",
       "      <th>start_date_time</th>\n",
       "      <th></th>\n",
       "      <th></th>\n",
       "      <th></th>\n",
       "      <th></th>\n",
       "      <th></th>\n",
       "    </tr>\n",
       "  </thead>\n",
       "  <tbody>\n",
       "    <tr>\n",
       "      <th>2010-01-01 00:00:00</th>\n",
       "      <td>1.43310</td>\n",
       "      <td>1.43370</td>\n",
       "      <td>1.43270</td>\n",
       "      <td>1.43320</td>\n",
       "      <td>0.000</td>\n",
       "    </tr>\n",
       "    <tr>\n",
       "      <th>2010-01-01 00:01:00</th>\n",
       "      <td>1.43330</td>\n",
       "      <td>1.43350</td>\n",
       "      <td>1.43290</td>\n",
       "      <td>1.43310</td>\n",
       "      <td>0.000</td>\n",
       "    </tr>\n",
       "    <tr>\n",
       "      <th>2010-01-01 00:02:00</th>\n",
       "      <td>1.43310</td>\n",
       "      <td>1.43340</td>\n",
       "      <td>1.43280</td>\n",
       "      <td>1.43290</td>\n",
       "      <td>0.000</td>\n",
       "    </tr>\n",
       "    <tr>\n",
       "      <th>2010-01-01 00:03:00</th>\n",
       "      <td>1.43320</td>\n",
       "      <td>1.43330</td>\n",
       "      <td>1.43290</td>\n",
       "      <td>1.43310</td>\n",
       "      <td>0.000</td>\n",
       "    </tr>\n",
       "    <tr>\n",
       "      <th>2010-01-01 00:04:00</th>\n",
       "      <td>1.43310</td>\n",
       "      <td>1.43320</td>\n",
       "      <td>1.43290</td>\n",
       "      <td>1.43320</td>\n",
       "      <td>0.000</td>\n",
       "    </tr>\n",
       "    <tr>\n",
       "      <th>...</th>\n",
       "      <td>...</td>\n",
       "      <td>...</td>\n",
       "      <td>...</td>\n",
       "      <td>...</td>\n",
       "      <td>...</td>\n",
       "    </tr>\n",
       "    <tr>\n",
       "      <th>2022-11-30 23:56:00</th>\n",
       "      <td>1.04142</td>\n",
       "      <td>1.04146</td>\n",
       "      <td>1.04090</td>\n",
       "      <td>1.04114</td>\n",
       "      <td>3.931</td>\n",
       "    </tr>\n",
       "    <tr>\n",
       "      <th>2022-11-30 23:57:00</th>\n",
       "      <td>1.04111</td>\n",
       "      <td>1.04116</td>\n",
       "      <td>1.04066</td>\n",
       "      <td>1.04091</td>\n",
       "      <td>4.344</td>\n",
       "    </tr>\n",
       "    <tr>\n",
       "      <th>2022-11-30 23:58:00</th>\n",
       "      <td>1.04092</td>\n",
       "      <td>1.04107</td>\n",
       "      <td>1.04050</td>\n",
       "      <td>1.04079</td>\n",
       "      <td>5.040</td>\n",
       "    </tr>\n",
       "    <tr>\n",
       "      <th>2022-11-30 23:59:00</th>\n",
       "      <td>1.04080</td>\n",
       "      <td>1.04097</td>\n",
       "      <td>1.04032</td>\n",
       "      <td>1.04069</td>\n",
       "      <td>5.407</td>\n",
       "    </tr>\n",
       "    <tr>\n",
       "      <th>2022-12-01 00:00:00</th>\n",
       "      <td>1.04072</td>\n",
       "      <td>1.04088</td>\n",
       "      <td>1.04015</td>\n",
       "      <td>1.04052</td>\n",
       "      <td>7.317</td>\n",
       "    </tr>\n",
       "  </tbody>\n",
       "</table>\n",
       "<p>4805556 rows × 5 columns</p>\n",
       "</div>"
      ],
      "text/plain": [
       "                        open     high      low    close  volume\n",
       "start_date_time                                                \n",
       "2010-01-01 00:00:00  1.43310  1.43370  1.43270  1.43320   0.000\n",
       "2010-01-01 00:01:00  1.43330  1.43350  1.43290  1.43310   0.000\n",
       "2010-01-01 00:02:00  1.43310  1.43340  1.43280  1.43290   0.000\n",
       "2010-01-01 00:03:00  1.43320  1.43330  1.43290  1.43310   0.000\n",
       "2010-01-01 00:04:00  1.43310  1.43320  1.43290  1.43320   0.000\n",
       "...                      ...      ...      ...      ...     ...\n",
       "2022-11-30 23:56:00  1.04142  1.04146  1.04090  1.04114   3.931\n",
       "2022-11-30 23:57:00  1.04111  1.04116  1.04066  1.04091   4.344\n",
       "2022-11-30 23:58:00  1.04092  1.04107  1.04050  1.04079   5.040\n",
       "2022-11-30 23:59:00  1.04080  1.04097  1.04032  1.04069   5.407\n",
       "2022-12-01 00:00:00  1.04072  1.04088  1.04015  1.04052   7.317\n",
       "\n",
       "[4805556 rows x 5 columns]"
      ]
     },
     "execution_count": 5,
     "metadata": {},
     "output_type": "execute_result"
    }
   ],
   "source": [
    "qs.get(\"EURUSD\", TimeFrame.m1)"
   ]
  }
 ],
 "metadata": {
  "kernelspec": {
   "display_name": "Python 3",
   "language": "python",
   "name": "python3"
  },
  "language_info": {
   "codemirror_mode": {
    "name": "ipython",
    "version": 3
   },
   "file_extension": ".py",
   "mimetype": "text/x-python",
   "name": "python",
   "nbconvert_exporter": "python",
   "pygments_lexer": "ipython3",
   "version": "3.11.2"
  },
  "orig_nbformat": 4
 },
 "nbformat": 4,
 "nbformat_minor": 2
}
